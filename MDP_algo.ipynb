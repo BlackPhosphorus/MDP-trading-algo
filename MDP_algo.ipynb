{
  "nbformat": 4,
  "nbformat_minor": 0,
  "metadata": {
    "colab": {
      "provenance": [],
      "gpuType": "T4"
    },
    "kernelspec": {
      "name": "python3",
      "display_name": "Python 3"
    },
    "language_info": {
      "name": "python"
    },
    "accelerator": "GPU"
  },
  "cells": [
    {
      "cell_type": "code",
      "execution_count": 1,
      "metadata": {
        "colab": {
          "base_uri": "https://localhost:8080/"
        },
        "id": "nQR2CJJz3tov",
        "outputId": "842ef793-394d-4226-8888-d9032f36cc9f"
      },
      "outputs": [
        {
          "output_type": "stream",
          "name": "stdout",
          "text": [
            "Collecting robin_stocks\n",
            "  Downloading robin_stocks-3.1.0-py3-none-any.whl.metadata (5.2 kB)\n",
            "Requirement already satisfied: requests in /usr/local/lib/python3.10/dist-packages (from robin_stocks) (2.31.0)\n",
            "Collecting pyotp (from robin_stocks)\n",
            "  Downloading pyotp-2.9.0-py3-none-any.whl.metadata (9.8 kB)\n",
            "Collecting python-dotenv (from robin_stocks)\n",
            "  Downloading python_dotenv-1.0.1-py3-none-any.whl.metadata (23 kB)\n",
            "Requirement already satisfied: cryptography in /usr/local/lib/python3.10/dist-packages (from robin_stocks) (42.0.8)\n",
            "Requirement already satisfied: cffi>=1.12 in /usr/local/lib/python3.10/dist-packages (from cryptography->robin_stocks) (1.16.0)\n",
            "Requirement already satisfied: charset-normalizer<4,>=2 in /usr/local/lib/python3.10/dist-packages (from requests->robin_stocks) (3.3.2)\n",
            "Requirement already satisfied: idna<4,>=2.5 in /usr/local/lib/python3.10/dist-packages (from requests->robin_stocks) (3.7)\n",
            "Requirement already satisfied: urllib3<3,>=1.21.1 in /usr/local/lib/python3.10/dist-packages (from requests->robin_stocks) (2.0.7)\n",
            "Requirement already satisfied: certifi>=2017.4.17 in /usr/local/lib/python3.10/dist-packages (from requests->robin_stocks) (2024.7.4)\n",
            "Requirement already satisfied: pycparser in /usr/local/lib/python3.10/dist-packages (from cffi>=1.12->cryptography->robin_stocks) (2.22)\n",
            "Downloading robin_stocks-3.1.0-py3-none-any.whl (133 kB)\n",
            "\u001b[2K   \u001b[90m━━━━━━━━━━━━━━━━━━━━━━━━━━━━━━━━━━━━━━━━\u001b[0m \u001b[32m133.3/133.3 kB\u001b[0m \u001b[31m6.7 MB/s\u001b[0m eta \u001b[36m0:00:00\u001b[0m\n",
            "\u001b[?25hDownloading pyotp-2.9.0-py3-none-any.whl (13 kB)\n",
            "Downloading python_dotenv-1.0.1-py3-none-any.whl (19 kB)\n",
            "Installing collected packages: python-dotenv, pyotp, robin_stocks\n",
            "Successfully installed pyotp-2.9.0 python-dotenv-1.0.1 robin_stocks-3.1.0\n"
          ]
        }
      ],
      "source": [
        "!pip install robin_stocks\n",
        "import yfinance as yf\n",
        "import pandas as pd\n",
        "import numpy as np\n",
        "import matplotlib.pyplot as plt\n",
        "import robin_stocks as r # pip install robin_stocks\n",
        "import time\n",
        "import random\n",
        "from collections import deque\n",
        "import tensorflow as tf\n",
        "import logging\n",
        "from tensorflow.keras.models import Sequential\n",
        "from tensorflow.keras.layers import Dense\n",
        "from tensorflow.keras.optimizers import Adam"
      ]
    },
    {
      "cell_type": "code",
      "source": [
        "def get_market_data(ticker, period='1y', interval='1d'):\n",
        "    try:\n",
        "        data = yf.download(ticker, period=period, interval=interval)\n",
        "        if data.empty:\n",
        "            raise ValueError(f\"No data found for ticker {ticker}\")\n",
        "        return data\n",
        "    except Exception as e:\n",
        "        print(f\"Error fetching data for {ticker}: {e}\")\n",
        "        return None"
      ],
      "metadata": {
        "id": "rlYknql84Bwt"
      },
      "execution_count": 2,
      "outputs": []
    },
    {
      "cell_type": "code",
      "source": [
        "def calculate_indicators(data):\n",
        "    data['MA20'] = data['Close'].rolling(window=20).mean()\n",
        "    data['MA50'] = data['Close'].rolling(window=50).mean()\n",
        "    data['MA200'] = data['Close'].rolling(window=200).mean()\n",
        "    data['RSI'] = 100 - (100 / (1 + data['Close'].pct_change().rolling(window=14).apply(lambda x: (x[x > 0].sum() / abs(x[x < 0].sum())))))\n",
        "    data['MACD'] = data['Close'].ewm(span=12, adjust=False).mean() - data['Close'].ewm(span=26, adjust=False).mean()\n",
        "    data['MACD_Signal'] = data['MACD'].ewm(span=9, adjust=False).mean()\n",
        "    data['MACD_Hist'] = data['MACD'] - data['MACD_Signal']\n",
        "    data['Bollinger_Up'] = data['Close'].rolling(window=20).mean() + (data['Close'].rolling(window=20).std() * 2)\n",
        "    data['Bollinger_Down'] = data['Close'].rolling(window=20).mean() - (data['Close'].rolling(window=20).std() * 2)\n",
        "    data['Volatility'] = data['Close'].rolling(window=20).std()\n",
        "    data['Momentum'] = data['Close'] - data['Close'].shift(10)\n",
        "    data['SMA'] = data['Close'].rolling(window=50).mean()\n",
        "    data['EMA'] = data['Close'].ewm(span=50, adjust=False).mean()\n",
        "    data['Returns'] = data['Close'].pct_change()\n",
        "    data['Cumulative_Returns'] = (1 + data['Returns']).cumprod()\n",
        "    return data"
      ],
      "metadata": {
        "id": "6N08Kzoy42Ah"
      },
      "execution_count": 3,
      "outputs": []
    },
    {
      "cell_type": "code",
      "source": [
        "def define_states(data):\n",
        "    conditions = [\n",
        "        (data['MA50'] > data['MA200']) & (data['RSI'] < 30) & (data['Close'] < data['Bollinger_Down']),\n",
        "        (data['MA50'] > data['MA200']) & (data['RSI'] > 70) & (data['Close'] > data['Bollinger_Up']),\n",
        "        (data['MA50'] < data['MA200']) & (data['RSI'] < 30) & (data['Close'] < data['Bollinger_Down']),\n",
        "        (data['MA50'] < data['MA200']) & (data['RSI'] > 70) & (data['Close'] > data['Bollinger_Up']),\n",
        "        (data['Volatility'] > data['Volatility'].mean() + data['Volatility'].std()) & (data['Momentum'] > 0),\n",
        "        (data['Volatility'] > data['Volatility'].mean() + data['Volatility'].std()) & (data['Momentum'] < 0),\n",
        "        (data['MACD'] > data['MACD_Signal']),\n",
        "        (data['MACD'] < data['MACD_Signal']),\n",
        "        (data['MA20'] > data['MA50']) & (data['MA50'] > data['MA200']),\n",
        "        (data['MA20'] < data['MA50']) & (data['MA50'] < data['MA200']),\n",
        "        (data['RSI'] < 30) & (data['MACD_Hist'] > 0),\n",
        "        (data['RSI'] > 70) & (data['MACD_Hist'] < 0),\n",
        "        (data['SMA'] > data['EMA']),\n",
        "        (data['SMA'] < data['EMA'])\n",
        "    ]\n",
        "    choices = [\n",
        "        'Bullish', 'Overbought', 'Bearish', 'Oversold', 'High_Vol_Momentum_Up',\n",
        "        'High_Vol_Momentum_Down', 'MACD_Positive', 'MACD_Negative', 'Strong_Bullish',\n",
        "        'Strong_Bearish', 'RSI_Bullish', 'RSI_Bearish', 'SMA_Above_EMA', 'SMA_Below_EMA'\n",
        "    ]\n",
        "    data['State'] = np.select(conditions, choices, default='Neutral')\n",
        "    return data"
      ],
      "metadata": {
        "id": "DY3eedcHKwCy"
      },
      "execution_count": 4,
      "outputs": []
    },
    {
      "cell_type": "code",
      "source": [
        "# class QLearningTrader:\n",
        "#     def __init__(self, states, actions, learning_rate=0.01, discount_factor=0.9, exploration_rate=1.0, exploration_decay=0.995):\n",
        "#         self.q_table = pd.DataFrame(0.0, index=states, columns=actions)  # Initialize with float values\n",
        "#         self.learning_rate = learning_rate\n",
        "#         self.discount_factor = discount_factor\n",
        "#         self.exploration_rate = exploration_rate\n",
        "#         self.exploration_decay = exploration_decay\n",
        "#         self.actions = actions\n",
        "\n",
        "#     def choose_action(self, state):\n",
        "#         if np.random.rand() < self.exploration_rate:\n",
        "#             return random.choice(self.actions)\n",
        "#         else:\n",
        "#             return self.q_table.loc[state].idxmax()\n",
        "\n",
        "#     def learn(self, state, action, reward, next_state):\n",
        "#         predict = self.q_table.loc[state, action]\n",
        "#         target = reward + self.discount_factor * self.q_table.loc[next_state].max()\n",
        "#         self.q_table.loc[state, action] += self.learning_rate * (target - predict)\n",
        "#         self.exploration_rate *= self.exploration_decay\n",
        "## Outdated"
      ],
      "metadata": {
        "id": "HKybUt26EeJ2"
      },
      "execution_count": 5,
      "outputs": []
    },
    {
      "cell_type": "code",
      "source": [
        "class DQNTrader:\n",
        "    def __init__(self, state_size, action_size, learning_rate=0.001, discount_factor=0.95, exploration_rate=1.0, exploration_decay=0.995, min_exploration_rate=0.01, batch_size=32, memory_size=2000):\n",
        "        self.state_size = state_size\n",
        "        self.action_size = action_size\n",
        "        self.learning_rate = learning_rate\n",
        "        self.discount_factor = discount_factor\n",
        "        self.exploration_rate = exploration_rate\n",
        "        self.exploration_decay = exploration_decay\n",
        "        self.min_exploration_rate = min_exploration_rate\n",
        "        self.batch_size = batch_size\n",
        "        self.memory = deque(maxlen=memory_size)\n",
        "        self.model = self._build_model()\n",
        "\n",
        "    def _build_model(self):\n",
        "        model = Sequential()\n",
        "        model.add(Dense(24, input_dim=self.state_size, activation='relu'))\n",
        "        model.add(Dense(24, activation='relu'))\n",
        "        model.add(Dense(self.action_size, activation='linear'))\n",
        "        model.compile(optimizer=Adam(learning_rate=self.learning_rate), loss='mse')\n",
        "        return model\n",
        "\n",
        "    def remember(self, state, action, reward, next_state, done):\n",
        "        self.memory.append((state, action, reward, next_state, done))\n",
        "\n",
        "    def choose_action(self, state):\n",
        "        if np.random.rand() <= self.exploration_rate:\n",
        "            return random.randrange(self.action_size)\n",
        "        q_values = self.model.predict(state, verbose=0)\n",
        "        return np.argmax(q_values[0])\n",
        "\n",
        "    def replay(self):\n",
        "        if len(self.memory) < self.batch_size:\n",
        "            return\n",
        "        minibatch = random.sample(self.memory, self.batch_size)\n",
        "        for state, action, reward, next_state, done in minibatch:\n",
        "            target = reward\n",
        "            if not done:\n",
        "                target = reward + self.discount_factor * np.amax(self.model.predict(next_state, verbose=0)[0])\n",
        "            target_f = self.model.predict(state, verbose=0)\n",
        "            target_f[0][action] = target\n",
        "            self.model.fit(state, target_f, epochs=1, verbose=0)\n",
        "        if self.exploration_rate > self.min_exploration_rate:\n",
        "            self.exploration_rate *= self.exploration_decay"
      ],
      "metadata": {
        "id": "eJBmm0oWS8eF"
      },
      "execution_count": 6,
      "outputs": []
    },
    {
      "cell_type": "code",
      "source": [
        "def get_reward(action, next_state, data):\n",
        "    if action == 1:\n",
        "        return data['Close'].pct_change().shift(-1).iloc[next_state]\n",
        "    elif action == -1:\n",
        "        return -data['Close'].pct_change().shift(-1).iloc[next_state]\n",
        "    else:\n",
        "        return 0"
      ],
      "metadata": {
        "id": "_QKHlJi4E1Y6"
      },
      "execution_count": 7,
      "outputs": []
    },
    {
      "cell_type": "code",
      "source": [
        "# def login_robinhood(username, password):\n",
        "#     r.login(username, password)\n",
        "\n",
        "# def get_portfolio():\n",
        "#     return r.account.build_holdings()\n",
        "\n",
        "# def place_order(action, symbol, quantity):\n",
        "#     if action == 1:\n",
        "#         r.orders.order_buy_market(symbol, quantity)\n",
        "#     elif action == -1:\n",
        "#         r.orders.order_sell_market(symbol, quantity)"
      ],
      "metadata": {
        "id": "rF7r6mdm5mix"
      },
      "execution_count": 8,
      "outputs": []
    },
    {
      "cell_type": "code",
      "source": [
        "# def monitor_market(ticker, username, password):\n",
        "#     login_robinhood(username, password)\n",
        "#     trader = QLearningTrader(states=['Bullish', 'Overbought', 'Bearish', 'Oversold', 'High_Vol_Momentum_Up', 'High_Vol_Momentum_Down', 'Neutral'], actions=[0, 1, -1])\n",
        "#     while True:\n",
        "#         data = get_market_data(ticker)\n",
        "#         data = calculate_indicators(data)\n",
        "#         data = define_states(data)\n",
        "#         portfolio = get_portfolio()\n",
        "#         holdings = portfolio.get(ticker, {})\n",
        "#         quantity = int(holdings.get('quantity', 0))\n",
        "#         latest_state = data['State'].iloc[-1]\n",
        "#         action = trader.choose_action(latest_state)\n",
        "#         next_state = data['State'].shift(-1).iloc[-1]\n",
        "#         reward = get_reward(action, next_state, data)\n",
        "#         trader.learn(latest_state, action, reward, next_state)\n",
        "#         if action == 1:\n",
        "#             quantity_to_trade = 1\n",
        "#         elif action == -1 and quantity > 0:\n",
        "#             quantity_to_trade = quantity  # SELL ALL\n",
        "#         else:\n",
        "#             quantity_to_trade = 0  # No action or insufficient holdings to sell\n",
        "#         if quantity_to_trade > 0:\n",
        "#             place_order(action, ticker, quantity_to_trade)\n",
        "#         time.sleep(60)  # Check every minute\n",
        "\n",
        "  ## OUTDATED, WILL UPDATE IF/WHEN REAL TIME TRADING STUFF IS A POSSIBLE OUTCOME"
      ],
      "metadata": {
        "id": "RUaIUY8W5o_T"
      },
      "execution_count": 9,
      "outputs": []
    },
    {
      "cell_type": "code",
      "source": [
        "def get_sector_tickers(sector):\n",
        "    sector_map = {\n",
        "        'technology': ['AAPL', 'MSFT', 'GOOGL', 'AMZN', 'META', 'NVDA'],\n",
        "        'healthcare': ['JNJ', 'PFE', 'MRK', 'ABBV', 'TMO'],\n",
        "        'financials': ['JPM', 'BAC', 'WFC', 'C', 'GS'],\n",
        "    }\n",
        "    return sector_map.get(sector.lower(), [])"
      ],
      "metadata": {
        "id": "IrPAe6voNve3"
      },
      "execution_count": 10,
      "outputs": []
    },
    {
      "cell_type": "code",
      "source": [
        "def backtest_strategy_for_sectors(sectors):\n",
        "    combined_sector_returns = pd.DataFrame()\n",
        "\n",
        "    for sector in sectors:\n",
        "        tickers = get_sector_tickers(sector)\n",
        "        sector_returns = pd.DataFrame()\n",
        "\n",
        "        for ticker in tickers:\n",
        "            data = get_market_data(ticker, period='10y', interval='1d')\n",
        "            if data is None:\n",
        "                continue\n",
        "            data = calculate_indicators(data)\n",
        "            data = define_states(data)\n",
        "\n",
        "            feature_columns = data.columns.drop(['State'])\n",
        "            state_size = len(feature_columns)\n",
        "            action_size = 3\n",
        "            trader = DQNTrader(state_size, action_size)\n",
        "\n",
        "            rewards = []\n",
        "            for i in range(len(data) - 1):\n",
        "                state = data[feature_columns].iloc[i:i+1].values\n",
        "                next_state = data[feature_columns].iloc[i+1:i+2].values\n",
        "                action = trader.choose_action(state)\n",
        "                reward = get_reward(action, i + 1, data)\n",
        "                done = i == len(data) - 2\n",
        "                trader.remember(state, action, reward, next_state, done)\n",
        "                trader.replay()\n",
        "                rewards.append(reward)\n",
        "\n",
        "            data['Strategy_Return'] = pd.Series(rewards, index=data.index[:len(rewards)])\n",
        "            sector_returns[ticker] = data['Strategy_Return']\n",
        "\n",
        "        if not sector_returns.empty:\n",
        "            sector_returns['Sector_Strategy_Return'] = sector_returns.mean(axis=1)\n",
        "            combined_sector_returns[sector] = sector_returns['Sector_Strategy_Return']\n",
        "\n",
        "    if not combined_sector_returns.empty:\n",
        "        combined_sector_returns['Overall_Strategy_Return'] = combined_sector_returns.mean(axis=1)\n",
        "        combined_sector_returns['Cumulative_Overall_Strategy_Return'] = (1 + combined_sector_returns['Overall_Strategy_Return']).cumprod()\n",
        "\n",
        "        plt.figure(figsize=(14, 7))\n",
        "        for sector in sectors:\n",
        "            if sector in combined_sector_returns:\n",
        "                plt.plot((1 + combined_sector_returns[sector]).cumprod(), label=f'{sector} Strategy Return')\n",
        "        plt.plot(combined_sector_returns['Cumulative_Overall_Strategy_Return'], label='Overall Strategy Return', linewidth=2, linestyle='--')\n",
        "        plt.legend()\n",
        "        plt.show()\n",
        "\n",
        "        sharpe_ratio = np.mean(combined_sector_returns['Overall_Strategy_Return']) / np.std(combined_sector_returns['Overall_Strategy_Return']) * np.sqrt(252)\n",
        "        max_drawdown = (combined_sector_returns['Cumulative_Overall_Strategy_Return'].cummax() - combined_sector_returns['Cumulative_Overall_Strategy_Return']).max()\n",
        "        return sharpe_ratio, max_drawdown\n",
        "    else:\n",
        "        print(\"No valid sector returns were generated.\")\n",
        "        return None, None\n",
        "\n",
        "sectors = ['technology', 'healthcare', 'financials']\n",
        "sharpe_ratio, max_drawdown = backtest_strategy_for_sectors(sectors)\n",
        "if sharpe_ratio is not None and max_drawdown is not None:\n",
        "    print(f'Sharpe Ratio: {sharpe_ratio}, Max Drawdown: {max_drawdown}')\n",
        "else:\n",
        "    print(\"Backtest did not produce valid results.\")\n"
      ],
      "metadata": {
        "colab": {
          "base_uri": "https://localhost:8080/"
        },
        "id": "L08R5LSa74UZ",
        "outputId": "c217f201-a838-4f6b-8c31-a5610b615e36"
      },
      "execution_count": null,
      "outputs": [
        {
          "output_type": "stream",
          "name": "stderr",
          "text": [
            "\r[*********************100%%**********************]  1 of 1 completed\n"
          ]
        }
      ]
    },
    {
      "cell_type": "code",
      "source": [
        "# ticker = 'AAPL'\n",
        "# username = 'your_username'\n",
        "# password = 'your_password'\n",
        "# monitor_market(ticker, username, password)"
      ],
      "metadata": {
        "id": "1R6Zw6Dj5uBH"
      },
      "execution_count": null,
      "outputs": []
    }
  ]
}